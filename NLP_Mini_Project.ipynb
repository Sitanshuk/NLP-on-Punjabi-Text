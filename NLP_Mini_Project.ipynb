{
  "nbformat": 4,
  "nbformat_minor": 0,
  "metadata": {
    "colab": {
      "name": "NLP Mini Project.ipynb",
      "provenance": [],
      "collapsed_sections": [],
      "toc_visible": true
    },
    "kernelspec": {
      "name": "python3",
      "display_name": "Python 3"
    }
  },
  "cells": [
    {
      "cell_type": "markdown",
      "metadata": {
        "id": "Fzmi-29UuX3q",
        "colab_type": "text"
      },
      "source": [
        "# Importing Libraries"
      ]
    },
    {
      "cell_type": "code",
      "metadata": {
        "id": "84NeDZgmubv-",
        "colab_type": "code",
        "colab": {}
      },
      "source": [
        "import glob\n",
        "import os\n",
        "import csv\n",
        "import tensorflow as tf\n",
        "import numpy as np\n",
        "from tensorflow.keras.preprocessing.text import Tokenizer\n",
        "from tensorflow.keras.preprocessing.sequence import pad_sequences"
      ],
      "execution_count": 0,
      "outputs": []
    },
    {
      "cell_type": "markdown",
      "metadata": {
        "id": "Cru_0sS8vFGu",
        "colab_type": "text"
      },
      "source": [
        "# Importing/ Downloading  Dataset"
      ]
    },
    {
      "cell_type": "markdown",
      "metadata": {
        "id": "iqVco7jj3Imz",
        "colab_type": "text"
      },
      "source": [
        "## Using Kaggle\n",
        "Use Only if you have Kaggle.json i.e Credentials provided by Kaggle to Download their Datset via API calls. "
      ]
    },
    {
      "cell_type": "code",
      "metadata": {
        "id": "fbsdPSPNzKcM",
        "colab_type": "code",
        "colab": {
          "base_uri": "https://localhost:8080/",
          "height": 121
        },
        "outputId": "4f0fdbcd-23e6-4c56-b6dd-43e6ef038c81"
      },
      "source": [
        "from google.colab import drive\n",
        "drive.mount('/content/gdrive')"
      ],
      "execution_count": 6,
      "outputs": [
        {
          "output_type": "stream",
          "text": [
            "Go to this URL in a browser: https://accounts.google.com/o/oauth2/auth?client_id=947318989803-6bn6qk8qdgf4n4g3pfee6491hc0brc4i.apps.googleusercontent.com&redirect_uri=urn%3aietf%3awg%3aoauth%3a2.0%3aoob&response_type=code&scope=email%20https%3a%2f%2fwww.googleapis.com%2fauth%2fdocs.test%20https%3a%2f%2fwww.googleapis.com%2fauth%2fdrive%20https%3a%2f%2fwww.googleapis.com%2fauth%2fdrive.photos.readonly%20https%3a%2f%2fwww.googleapis.com%2fauth%2fpeopleapi.readonly\n",
            "\n",
            "Enter your authorization code:\n",
            "··········\n",
            "Mounted at /content/gdrive\n"
          ],
          "name": "stdout"
        }
      ]
    },
    {
      "cell_type": "code",
      "metadata": {
        "colab_type": "code",
        "id": "HWXTfecQ3lsS",
        "colab": {}
      },
      "source": [
        "os.environ['KAGGLE_CONFIG_DIR'] = \"/content/gdrive/My Drive/\" #path to the kaggle.json file in your drive, in my case it is on home directory"
      ],
      "execution_count": 0,
      "outputs": []
    },
    {
      "cell_type": "code",
      "metadata": {
        "colab_type": "code",
        "outputId": "83065e24-e6be-4564-b42c-74a4e1e80dd0",
        "id": "IAVBDZpn3lsh",
        "colab": {
          "base_uri": "https://localhost:8080/",
          "height": 67
        }
      },
      "source": [
        "!kaggle datasets download -d disisbig/punjabi-wikipedia-articles"
      ],
      "execution_count": 18,
      "outputs": [
        {
          "output_type": "stream",
          "text": [
            "Downloading punjabi-wikipedia-articles.zip to /content\n",
            " 73% 34.0M/46.3M [00:01<00:00, 14.1MB/s]\n",
            "100% 46.3M/46.3M [00:01<00:00, 39.9MB/s]\n"
          ],
          "name": "stdout"
        }
      ]
    },
    {
      "cell_type": "code",
      "metadata": {
        "colab_type": "code",
        "id": "h1-eMFd73lss",
        "colab": {}
      },
      "source": [
        "!unzip /content/punjabi-wikipedia-articles.zip -d dataset_for_vocab"
      ],
      "execution_count": 0,
      "outputs": []
    },
    {
      "cell_type": "code",
      "metadata": {
        "id": "oYy5plUV9LOH",
        "colab_type": "code",
        "colab": {
          "base_uri": "https://localhost:8080/",
          "height": 67
        },
        "outputId": "3a7658e7-ad6c-402a-e031-676004febff9"
      },
      "source": [
        "!kaggle datasets download -d disisbig/punjabi-news-dataset"
      ],
      "execution_count": 27,
      "outputs": [
        {
          "output_type": "stream",
          "text": [
            "Downloading punjabi-news-dataset.zip to /content\n",
            "\r  0% 0.00/1.64M [00:00<?, ?B/s]\n",
            "\r100% 1.64M/1.64M [00:00<00:00, 96.4MB/s]\n"
          ],
          "name": "stdout"
        }
      ]
    },
    {
      "cell_type": "code",
      "metadata": {
        "id": "aMhxsPKm9pmi",
        "colab_type": "code",
        "colab": {
          "base_uri": "https://localhost:8080/",
          "height": 67
        },
        "outputId": "2ebea843-c9d7-4929-a2e0-ab8350117601"
      },
      "source": [
        "!unzip /content/punjabi-news-dataset.zip -d dataset_for_classification"
      ],
      "execution_count": 28,
      "outputs": [
        {
          "output_type": "stream",
          "text": [
            "Archive:  /content/punjabi-news-dataset.zip\n",
            "  inflating: dataset_for_classification/train.csv  \n",
            "  inflating: dataset_for_classification/valid.csv  \n"
          ],
          "name": "stdout"
        }
      ]
    },
    {
      "cell_type": "code",
      "metadata": {
        "id": "-wQtAR-n96YG",
        "colab_type": "code",
        "colab": {}
      },
      "source": [
        ""
      ],
      "execution_count": 0,
      "outputs": []
    },
    {
      "cell_type": "markdown",
      "metadata": {
        "id": "JwwTCI7O-K3d",
        "colab_type": "text"
      },
      "source": [
        "## Using manual Upload Option"
      ]
    },
    {
      "cell_type": "markdown",
      "metadata": {
        "id": "BZfeSOvaY_EE",
        "colab_type": "text"
      },
      "source": [
        "[Link to Dataset for Building Vocabulary](https://www.kaggle.com/disisbig/punjabi-wikipedia-articles)\n",
        "\n",
        "[Link to Datset for Classification](https://www.kaggle.com/disisbig/punjabi-news-dataset)"
      ]
    },
    {
      "cell_type": "code",
      "metadata": {
        "colab_type": "code",
        "id": "p00wMlAY-alp",
        "colab": {}
      },
      "source": [
        "!unzip /content/punjabi-wikipedia-articles.zip -d dataset_for_vocab"
      ],
      "execution_count": 0,
      "outputs": []
    },
    {
      "cell_type": "code",
      "metadata": {
        "colab_type": "code",
        "id": "c0HBHR8e-al3",
        "colab": {}
      },
      "source": [
        "!unzip /content/punjabi-news-dataset.zip -d dataset_for_classification"
      ],
      "execution_count": 0,
      "outputs": []
    },
    {
      "cell_type": "markdown",
      "metadata": {
        "id": "J-afxxXS-eDp",
        "colab_type": "text"
      },
      "source": [
        "# Preprocessing Dataset to generate Language Model"
      ]
    },
    {
      "cell_type": "code",
      "metadata": {
        "colab_type": "code",
        "id": "nZOUJR7E_O9L",
        "colab": {}
      },
      "source": [
        "filename_list = list()\n",
        "for filename in glob.glob('dataset_for_vocab/*/*/*.txt'):\n",
        "  file = os.path.join(os.getcwd(), filename)\n",
        "  filename_list.append(file)"
      ],
      "execution_count": 0,
      "outputs": []
    },
    {
      "cell_type": "code",
      "metadata": {
        "id": "725_wMhu_xHo",
        "colab_type": "code",
        "colab": {
          "base_uri": "https://localhost:8080/",
          "height": 101
        },
        "outputId": "2bc4638e-ba48-4c66-d67a-06ec64804b98"
      },
      "source": [
        "filename_list[:5]"
      ],
      "execution_count": 30,
      "outputs": [
        {
          "output_type": "execute_result",
          "data": {
            "text/plain": [
              "['/content/dataset_for_vocab/train/train/15440.txt',\n",
              " '/content/dataset_for_vocab/train/train/9972.txt',\n",
              " '/content/dataset_for_vocab/train/train/2552.txt',\n",
              " '/content/dataset_for_vocab/train/train/32702.txt',\n",
              " '/content/dataset_for_vocab/train/train/193.txt']"
            ]
          },
          "metadata": {
            "tags": []
          },
          "execution_count": 30
        }
      ]
    },
    {
      "cell_type": "code",
      "metadata": {
        "id": "vonxP_Ne_zqE",
        "colab_type": "code",
        "colab": {
          "base_uri": "https://localhost:8080/",
          "height": 101
        },
        "outputId": "4b6f99ab-d5d5-400e-fa4c-8e5cf5d76b06"
      },
      "source": [
        "filename_list[-5:]"
      ],
      "execution_count": 31,
      "outputs": [
        {
          "output_type": "execute_result",
          "data": {
            "text/plain": [
              "['/content/dataset_for_vocab/valid/valid/44145.txt',\n",
              " '/content/dataset_for_vocab/valid/valid/6949.txt',\n",
              " '/content/dataset_for_vocab/valid/valid/22972.txt',\n",
              " '/content/dataset_for_vocab/valid/valid/11593.txt',\n",
              " '/content/dataset_for_vocab/valid/valid/5515.txt']"
            ]
          },
          "metadata": {
            "tags": []
          },
          "execution_count": 31
        }
      ]
    },
    {
      "cell_type": "code",
      "metadata": {
        "id": "CXXelwpF_356",
        "colab_type": "code",
        "colab": {
          "base_uri": "https://localhost:8080/",
          "height": 34
        },
        "outputId": "7c0ad0c1-ea40-42cd-b258-95e86c5bcc40"
      },
      "source": [
        "stopwords = [\n",
        "  \"ਦੇ\", \"0\", \"ਵਿੱਚ\", \"ਦਾ\", \"ਅਤੇ\", \"ਦੀ\", \"ਇੱਕ\", \"ਨੂੰ\", \"ਹੈ\", \"ਤੋਂ\", \"ਇਸ\", \"ਇਹ\",\n",
        "  \"ਨੇ\", \"ਤੇ\", \"ਨਾਲ\", \"1\", \"ਲਈ\", \"ਵੀ\", \"ਸੀ\", \"ਵਿਚ\", \"ਕਿ\", \"ਜੋ\", \"ਉਹ\", \"ਉਸ\",\n",
        "  \"ਹਨ\", \"ਜਾਂਦਾ\", \"ਕੀਤਾ\", \"2\", \"ਗਿਆ\", \"ਹੀ\", \"ਕੇ\", \"ਜਾਂ\", \"ਦੀਆਂ\", \"ਜਿਸ\", \"ਕਰਨ\",\n",
        "  \"ਹੋ\", \"ਕਰ\", \"ਆਪਣੇ\", \"ਕੀਤੀ\", \"ਤੌਰ\", \"ਬਾਅਦ\", \"ਨਹੀਂ\", \"ਭਾਰਤੀ\", \"ਪਿੰਡ\", \"3\",\n",
        "  \"ਸਿੰਘ\", \"ਉੱਤੇ\", \"ਸਾਲ\", \"।\", \"ਪੰਜਾਬ\", \"ਸਭ\", \"ਭਾਰਤ\", \"ਉਨ੍ਹਾਂ\", \"ਹੁੰਦਾ\", \"ਤੱਕ\",\n",
        "  \"ਇਕ\", \"ਹੋਇਆ\", \"ਜਨਮ\", \"ਬਹੁਤ\", \"ਪਰ\", \"ਦੁਆਰਾ\", \"ਰੂਪ\", \"4\", \"ਹੋਰ\", \"ਕੰਮ\", \"ਆਪਣੀ\",\n",
        "  \"ਤਾਂ\", \"ਸਮੇਂ\", \"ਪੰਜਾਬੀ\", \"ਗਈ\", \"ਦਿੱਤਾ\", \"ਦੋ\", \"ਕਿਸੇ\", \"ਕਈ\", \"ਜਾ\", \"ਵਾਲੇ\",\n",
        "  \"ਸ਼ੁਰੂ\", \"5\", \"ਉਸਨੇ\", \"ਕਿਹਾ\", \"ਹੋਣ\", \"ਲੋਕ\", \"ਜਾਂਦੀ\", \"ਵਿੱਚੋਂ\", \"ਨਾਮ\", \"ਜਦੋਂ\",\n",
        "  \"ਪਹਿਲਾਂ\", \"ਕਰਦਾ\", \"ਹੁੰਦੀ\", \"ਹੋਏ\", \"ਸਨ\", \"ਵਜੋਂ\", \"ਰਾਜ\", \"ਮੁੱਖ\", \"ਕਰਦੇ\", \"ਕੁਝ\",\n",
        "  \"ਸਾਰੇ\", \"ਹੁੰਦੇ\", \"ਸ਼ਹਿਰ\", \"ਭਾਸ਼ਾ\", \"6\", \"ਹੋਈ\", \"ਅਨੁਸਾਰ\", \"ਸਕਦਾ\", \"ਆਮ\", \"ਵੱਖ\",\n",
        "  \"ਕੋਈ\", \"ਵਾਰ\", \"ਗਏ\", \"ਖੇਤਰ\", \"ਜੀ\", \"ਕਾਰਨ\", \"ਕਰਕੇ\", \"ਜਿਵੇਂ\", \"ਜ਼ਿਲ੍ਹੇ\",\n",
        "  \"ਲੋਕਾਂ\", \"ਚ\", \"ਸਾਹਿਤ\", \"ਸਦੀ\", \"ਬਾਰੇ\", \"ਜਾਂਦੇ\", \"ਵਾਲਾ\", \"ਜਾਣ\", \"ਪਹਿਲੀ\",\n",
        "  \"ਪ੍ਰਾਪਤ\", \"ਰਿਹਾ\", \"ਵਾਲੀ\", \"ਨਾਂ\", \"ਦੌਰਾਨ\", \"ਤਰ੍ਹਾਂ\", \"7\", \"ਯੂਨੀਵਰਸਿਟੀ\", \"ਨਾ\",\n",
        "  \"ਏ\", \"ਤਿੰਨ\", \"ਇਨ੍ਹਾਂ\", \"ਗੁਰੂ\", \"ਇਸਨੂੰ\", \"ਇਹਨਾਂ\", \"ਪਿਤਾ\", \"ਲਿਆ\", \"ਸ਼ਾਮਲ\",\n",
        "  \"ਸ਼ਬਦ\", \"ਅੰਗਰੇਜ਼ੀ\", \"ਉਸਨੂੰ\", \"ਉਹਨਾਂ\", \"8\", \"ਸਥਿਤ\", \"ਫਿਰ\", \"ਜੀਵਨ\", \"ਸਕੂਲ\",\n",
        "  \"ਹੁਣ\", \"ਦਿਨ\", \"ਕੀਤੇ\", \"ਆਦਿ\", \"ਵੱਧ\", \"ਲੈ\", \"ਘਰ\", \"ਵੱਲ\", \"ਦੇਸ਼\", \"ਵਲੋਂ\", \"ਬਣ\",\n",
        "  \"ਵੀਂ\", \"ਫਿਲਮ\", \"ਉਮਰ\", \"ਬਲਾਕ\", \"ਰਹੇ\", \"10\", \"ਸਾਹਿਬ\", \"ਕਰਦੀ\", \"ਹਰ\", \"ਪੈਦਾ\",\n",
        "  \"ਘੱਟ\", \"9\", \"ਲੇਖਕ\", \"ਹਿੱਸਾ\", \"ਫ਼ਿਲਮ\", \"ਮੌਤ\", \"ਜਿੱਥੇ\", \"ਵੱਡਾ\", \"ਵਿਖੇ\", \"ਆਪਣਾ\",\n",
        "  \"ਪਹਿਲਾ\", \"ਵਰਤੋਂ\", \"ਆਪ\", \"ਕਰਨਾ\", \"ਵਿਆਹ\", \"ਰਹੀ\", \"ਰਾਹੀਂ\", \"ਦਿੱਤੀ\", \"ਉਸਦੇ\",\n",
        "  \"ਪਰਿਵਾਰ\", \"ਆ\", \"ਦੂਜੇ\", \"ਅਮਰੀਕਾ\", \"ਮੰਨਿਆ\", \"ਇਸਦੇ\", \"ਈ\", \"ਕਾਲਜ\", \"ਸਰਕਾਰ\",\n",
        "  \"ਇੱਥੇ\", \"ਪਾਕਿਸਤਾਨ\", \"ਸ਼ਾਮਿਲ\", \"ਵਿਗਿਆਨ\", \"ਉਸਦੀ\", \"ਪੇਸ਼\", \"ਕਿਉਂਕਿ\", \"ਪਹਿਲੇ\",\n",
        "  \"ਧਰਮ\", \"ਮਸ਼ਹੂਰ\", \"ਅੰਦਰ\", \"ਵਿਚੋਂ\", \"ਜਿਨ੍ਹਾਂ\", \"ਜਾਣਿਆ\", \"ਪਾਣੀ\", \"ਇਲਾਵਾ\", \"ਅਰਥ\",\n",
        "  \"ਚਾਰ\", \"ਪ੍ਰਸਿੱਧ\", \"ਨਾਵਲ\", \"ਵੱਡੇ\", \"ਵੱਲੋਂ\", \"ਕਹਾਣੀ\", \"ਵਿਸ਼ਵ\", \"ਮੂਲ\", \"ਅਮਰੀਕੀ\",\n",
        "  \"ਸਥਾਨ\", \"ਇਤਿਹਾਸ\", \"ਕੁੱਝ\", \"ਵਿਕਾਸ\", \"ਉੱਤਰ\", \"ਸਿੱਖਿਆ\", \"ਹਿੰਦੀ\", \"ਪ੍ਰਮੁੱਖ\",\n",
        "  \"ਰਚਨਾ\", \"ਬਣਾਇਆ\", \"ਵਿਸ਼ੇਸ਼\", \"ਡਾ\", \"ਉੱਪਰ\", \"ਪੱਛਮੀ\", \"ਦੇਣ\", \"ਇਸਦਾ\", \"ਸਕਦੇ\",\n",
        "  \"ਰੱਖਿਆ\", \"ਕਵੀ\", \"ਦਿੱਲੀ\", \"ਵੱਡੀ\", \"ਭੂਮਿਕਾ\", \"ਸਮਾਜ\", \"ਕਾਵਿ\", \"ਕੀ\", \"ਕੋਲ\", \"ਦ\",\n",
        "  \"ਗੱਲ\", \"ਸੰਸਾਰ\", \"ਭਾਗ\", \"ਆਈ\", \"ਦੱਖਣ\", \"ਅੱਜ\", \"ਸਿੱਖ\", \"ਕਹਿੰਦੇ\", \"ਸੰਗੀਤ\",\n",
        "  \"ਕਿਲੋਮੀਟਰ\", \"ਜਿਹਨਾਂ\", \"ਸਭਾ\", \"ਜਿਸਦਾ\", \"ਜਨਵਰੀ\", \"ਕਵਿਤਾ\", \"ਮੈਂਬਰ\", \"ਲਿਖਿਆ\",\n",
        "  \"ਮਾਂ\", \"ਕਲਾ\", \"ਪੰਜ\", \"ਥਾਂ\", \"ਹੇਠ\", \"ਜਿਆਦਾ\", \"ਵਰਤਿਆ\", \"ਮਾਰਚ\", \"ਡੀ\", \"ਅਕਤੂਬਰ\",\n",
        "  \"ਤਕ\", \"ਨਾਟਕ\", \"ਬੀ\", \"ਖਾਸ\", \"ਇਸੇ\", \"ਆਧੁਨਿਕ\", \"ਅਗਸਤ\", \"ਤਿਆਰ\", \"ਮਾਤਾ\", \"ਬਣਾਉਣ\",\n",
        "  \"ਨਵੰਬਰ\", \"ਵਿਅਕਤੀ\", \"ਦੱਖਣੀ\", \"ਦਸੰਬਰ\", \"ਆਫ\", \"ਗੀਤ\", \"ਗਿਣਤੀ\", \"ਕਾਲ\", \"ਖੋਜ\",\n",
        "  \"ਸਾਲਾਂ\", \"ਪੂਰੀ\", \"ਸਮਾਂ\", \"ਜ਼ਿਆਦਾ\", \"ਇਸਦੀ\", \"ਸਕਦੀ\", \"ਵਿਚਕਾਰ\", \"ਰਾਜਧਾਨੀ\",\n",
        "  \"ਉਸਦਾ\", \"ਜੁਲਾਈ\", \"ਜੂਨ\", \"ਅਧੀਨ\", \"ਸਥਾਪਨਾ\", \"ਸੇਵਾ\", \"ਭਾਵ\", \"ਵਰਗ\", \"ਛੋਟੇ\",\n",
        "  \"ਦਿੰਦਾ\", \"ਸਮਾਜਿਕ\", \"ਹੁੰਦੀਆਂ\", \"ਟੀਮ\", \"ਔਰਤਾਂ\", \"ਅਕਸਰ\", \"ਪ੍ਰਕਾਸ਼ਿਤ\", \"ਉਰਦੂ\",\n",
        "  \"ਰੰਗ\", \"ਪਾਰਟੀ\", \"ਬਣਾ\", \"ਪ੍ਰਭਾਵ\", \"ਸ਼ੁਰੂਆਤ\", \"ਲਗਭਗ\", \"ਮਈ\", \"ਸਿਰਫ\", \"ਨੇੜੇ\",\n",
        "  \"ਜਿਸਨੂੰ\", \"ਹਾਲਾਂਕਿ\", \"ਦੂਰ\", \"ਸਤੰਬਰ\", \"ਕਿਤਾਬ\", \"ਕਦੇ\", \"ਉੱਤਰੀ\", \"ਪ੍ਰਕਾਰ\",\n",
        "  \"ਇਸਨੇ\", \"ਪ੍ਰਦੇਸ਼\", \"ਅੱਗੇ\", \"ਸੰਯੁਕਤ\", \"ਪੜ੍ਹਾਈ\", \"ਵਧੇਰੇ\", \"ਨਾਲ਼\", \"ਮਨੁੱਖ\",\n",
        "  \"ਬਾਕੀ\", \"ਪ੍ਰਧਾਨ\", \"ਦੂਜੀ\", \"ਕੁੱਲ\", \"ਆਫ਼\", \"ਅਧਿਐਨ\", \"ਰਾਸ਼ਟਰੀ\", \"ਪੁੱਤਰ\",\n",
        "  \"ਅੰਤਰਰਾਸ਼ਟਰੀ\", \"ਧਰਤੀ\", \"ਕੇਂਦਰ\", \"ਦੇਸ਼ਾਂ\", \"ਮੱਧ\", \"ਜ਼ਿਲ੍ਹਾ\", \"ਸਾਰੀਆਂ\", \"ਪੱਧਰ\",\n",
        "  \"ਹੋਵੇ\", \"ਜੇ\", \"ਭਾਈ\", \"ਰਹਿਣ\", \"ਪੁਰਸਕਾਰ\", \"ਸਭਿਆਚਾਰ\", \"ਪਤਾ\", \"ਪਾਸੇ\", \"ਨਵੇਂ\",\n",
        "  \"ਕੰਪਨੀ\", \"ਬਾਹਰ\", \"ਵੇਲੇ\", \"ਸੰਨ\", \"ਪੂਰਬੀ\", \"ਵਿਚਾਰ\", \"ਕਾਰਜ\", \"ਪੀ\", \"ਮਹੱਤਵਪੂਰਨ\",\n",
        "  \"ਦੁਨੀਆਂ\", \"ਧਾਰਮਿਕ\", \"ਮਨੁੱਖੀ\", \"ਸਮੂਹ\", \"ਅਜਿਹੇ\", \"ਲਾਲ\", \"ਦੂਜਾ\", \"ਭਰਾ\", \"ਸ੍ਰੀ\",\n",
        "  \"ਅੰਤ\", \"ਜਾਂਦੀਆਂ\", \"ਸ਼ਾਹ\", \"ਰਹਿੰਦੇ\", \"ਮਹਾਨ\", \"ਚੀਨ\", \"ਮੀਟਰ\", \"ਵਰਗੇ\", \"ਨਾਲੋਂ\",\n",
        "  \"ਹਾਸਲ\", \"ਕਿਸਮ\", \"ਅਜਿਹਾ\", \"ਬਣਿਆ\", \"ਭਰ\", \"ਛੱਡ\", \"ਲੈਣ\", \"ਹਿੱਸੇ\", \"ਟੀ\", \"ਲਿਖੇ\",\n",
        "  \"ਮਿਲ\", \"ਮੌਜੂਦ\", \"ਦਿੱਤੇ\", \"ਵਾਸਤੇ\", \"ਵਾਲੀਆਂ\", \"ਵਧੀਆ\", \"ਰੂਸੀ\", \"ਜਾਰੀ\", \"ਸਰਕਾਰੀ\",\n",
        "  \"ਡਿਗਰੀ\", \"ਪੱਛਮ\", \"ਲੜਾਈ\", \"ਭਾਸ਼ਾਵਾਂ\", \"ਰਾਜਾ\", \"ਜਲੰਧਰ\", \"ਹਿੰਦੂ\", \"ਔਰਤ\", \"ਜੰਗ\",\n",
        "  \"ਬਾਬਾ\", \"ਬੱਚਿਆਂ\", \"ਮੰਤਰੀ\", \"ਪਟਿਆਲਾ\", \"ਵਾਂਗ\", \"ਆਉਣ\", \"ਭਾਵੇਂ\", \"ਕੇਵਲ\", \"ਐਸ\",\n",
        "  \"ਪ੍ਰਾਚੀਨ\", \"ਰਹਿੰਦਾ\", \"ਬੋਲੀ\", \"ਅਵਾਰਡ\", \"ਨਗਰ\", \"ਖੇਡਾਂ\", \"ਫਿਲਮਾਂ\", \"ਬੱਚੇ\",\n",
        "  \"ਕੌਰ\", \"ਤੋ\", \"ਪ੍ਰਤੀ\", \"ਕੁਆਂਟਮ\", \"ਅਬਾਦੀ\", \"ਪੁਸਤਕ\", \"ਐਮ\", \"ਰਾਮ\", \"ਖੇਤਰਾਂ\",\n",
        "  \"ਫਰਵਰੀ\", \"ਕ੍ਰਿਕਟ\", \"ਪੈਂਦਾ\", \"ਇਤਿਹਾਸਕ\", \"ਲੱਗ\", \"ਬ੍ਰਿਟਿਸ਼\", \"ਆਇਆ\", \"ਮਿਲਦਾ\"\n",
        "]\n",
        "print(len(stopwords))"
      ],
      "execution_count": 33,
      "outputs": [
        {
          "output_type": "stream",
          "text": [
            "463\n"
          ],
          "name": "stdout"
        }
      ]
    },
    {
      "cell_type": "code",
      "metadata": {
        "id": "sbk0RyZMA0tu",
        "colab_type": "code",
        "colab": {}
      },
      "source": [
        "sentences = list()\n",
        "for filename in filename_list[:]:\n",
        "    with open(filename, 'r') as file:\n",
        "      sentence = file.read()\n",
        "      for word in stopwords:\n",
        "        token = \" \" + word +\" \"\n",
        "        sentence.replace(token, \" \")\n",
        "        sentence.replace(\"  \", \" \")\n",
        "      sentences.append(sentence)"
      ],
      "execution_count": 0,
      "outputs": []
    },
    {
      "cell_type": "code",
      "metadata": {
        "id": "uggXXf-oCGYQ",
        "colab_type": "code",
        "colab": {
          "base_uri": "https://localhost:8080/",
          "height": 34
        },
        "outputId": "52e75e74-5873-4213-c1e6-e20c178e4a72"
      },
      "source": [
        "print(len(sentences))"
      ],
      "execution_count": 39,
      "outputs": [
        {
          "output_type": "stream",
          "text": [
            "44547\n"
          ],
          "name": "stdout"
        }
      ]
    },
    {
      "cell_type": "markdown",
      "metadata": {
        "id": "nfX1lWKTC6ZB",
        "colab_type": "text"
      },
      "source": [
        "# Configuration for Language Model"
      ]
    },
    {
      "cell_type": "code",
      "metadata": {
        "id": "N7RoRR7xCuyt",
        "colab_type": "code",
        "colab": {}
      },
      "source": [
        "vocab_size = 10000\n",
        "embedding_dim = 100\n",
        "max_length = 1000 \n",
        "trunc_type = 'post'\n",
        "padding_type = 'post'\n",
        "oov_tok = \"<OOV>\""
      ],
      "execution_count": 0,
      "outputs": []
    },
    {
      "cell_type": "markdown",
      "metadata": {
        "id": "Xfmyb-hiDgIx",
        "colab_type": "text"
      },
      "source": [
        "# Building a Punjabi Vocabulary "
      ]
    },
    {
      "cell_type": "code",
      "metadata": {
        "id": "NlNRGUj1Ddgt",
        "colab_type": "code",
        "colab": {}
      },
      "source": [
        "tokenizer = Tokenizer(num_words=vocab_size, oov_token=oov_tok)\n",
        "tokenizer.fit_on_texts(sentences)\n",
        "word_index = tokenizer.word_index"
      ],
      "execution_count": 0,
      "outputs": []
    },
    {
      "cell_type": "code",
      "metadata": {
        "id": "Sb6rG46yDueb",
        "colab_type": "code",
        "colab": {
          "base_uri": "https://localhost:8080/",
          "height": 34
        },
        "outputId": "84fedbf6-a4db-494a-e117-edc147a02bd6"
      },
      "source": [
        "print(len(word_index))"
      ],
      "execution_count": 42,
      "outputs": [
        {
          "output_type": "stream",
          "text": [
            "260134\n"
          ],
          "name": "stdout"
        }
      ]
    },
    {
      "cell_type": "code",
      "metadata": {
        "id": "V5_CRYRyEGYg",
        "colab_type": "code",
        "colab": {
          "base_uri": "https://localhost:8080/",
          "height": 185
        },
        "outputId": "7e9c9181-3c2f-42a2-b6c0-53950f867d8f"
      },
      "source": [
        "list(word_index.items())[:10]"
      ],
      "execution_count": 46,
      "outputs": [
        {
          "output_type": "execute_result",
          "data": {
            "text/plain": [
              "[('<OOV>', 1),\n",
              " ('ਦੇ', 2),\n",
              " ('ਵਿੱਚ', 3),\n",
              " ('ਦੀ', 4),\n",
              " ('ਅਤੇ', 5),\n",
              " ('ਹੈ।', 6),\n",
              " ('ਹੈ', 7),\n",
              " ('ਦਾ', 8),\n",
              " ('ਨੂੰ', 9),\n",
              " ('ਇੱਕ', 10)]"
            ]
          },
          "metadata": {
            "tags": []
          },
          "execution_count": 46
        }
      ]
    },
    {
      "cell_type": "markdown",
      "metadata": {
        "id": "pbml6bEaGic-",
        "colab_type": "text"
      },
      "source": [
        "# Preprocessing Dataset for Classification task "
      ]
    },
    {
      "cell_type": "code",
      "metadata": {
        "id": "hvA72bstEKuv",
        "colab_type": "code",
        "colab": {}
      },
      "source": [
        "train_sentences = list()\n",
        "train_labels = list ()\n",
        "with open(\"dataset_for_classification/train.csv\", 'r') as csvfile:\n",
        "  reader = csv.reader(csvfile, delimiter = ',')\n",
        "  next(reader)\n",
        "  for row in reader:\n",
        "    label = row[1]\n",
        "    train_labels.append(label)\n",
        "    sentence = row[0]\n",
        "    for word in stopwords:\n",
        "      token = \" \" + word +\" \"\n",
        "      sentence.replace(token, \" \")\n",
        "      sentence.replace(\"  \", \" \")\n",
        "    train_sentences.append(sentence)"
      ],
      "execution_count": 0,
      "outputs": []
    },
    {
      "cell_type": "code",
      "metadata": {
        "colab_type": "code",
        "id": "cdfriQHqIFV8",
        "colab": {}
      },
      "source": [
        "val_sentences = list()\n",
        "val_labels = list ()\n",
        "with open(\"dataset_for_classification/valid.csv\", 'r') as csvfile:\n",
        "  reader = csv.reader(csvfile, delimiter = ',')\n",
        "  next(reader)\n",
        "  for row in reader:\n",
        "    label = row[1]\n",
        "    val_labels.append(label)\n",
        "    sentence = row[0]\n",
        "    for word in stopwords:\n",
        "      token = \" \" + word +\" \"\n",
        "      sentence.replace(token, \" \")\n",
        "      sentence.replace(\"  \", \" \")\n",
        "    val_sentences.append(sentence)"
      ],
      "execution_count": 0,
      "outputs": []
    },
    {
      "cell_type": "code",
      "metadata": {
        "id": "FOH5YyP2IVwz",
        "colab_type": "code",
        "colab": {
          "base_uri": "https://localhost:8080/",
          "height": 84
        },
        "outputId": "d065647b-051d-46a2-9802-6c92d40691f0"
      },
      "source": [
        "print(len(train_sentences))\n",
        "print(len(train_labels))\n",
        "print(len(val_sentences))\n",
        "print(len(val_labels))"
      ],
      "execution_count": 73,
      "outputs": [
        {
          "output_type": "stream",
          "text": [
            "627\n",
            "627\n",
            "157\n",
            "157\n"
          ],
          "name": "stdout"
        }
      ]
    },
    {
      "cell_type": "markdown",
      "metadata": {
        "id": "2uH3dHqIIqBw",
        "colab_type": "text"
      },
      "source": [
        "# Tokenizing dataset for Classification"
      ]
    },
    {
      "cell_type": "code",
      "metadata": {
        "id": "mCqffD09Ihih",
        "colab_type": "code",
        "colab": {}
      },
      "source": [
        "train_sequences = tokenizer.texts_to_sequences(train_sentences)\n",
        "train_padded = pad_sequences(train_sequences, padding = padding_type, maxlen=max_length)"
      ],
      "execution_count": 0,
      "outputs": []
    },
    {
      "cell_type": "code",
      "metadata": {
        "id": "Sfs5BPIII6KU",
        "colab_type": "code",
        "colab": {}
      },
      "source": [
        "validation_sequences = tokenizer.texts_to_sequences(val_sentences)\n",
        "validation_padded = pad_sequences(validation_sequences, padding = padding_type, maxlen= max_length)"
      ],
      "execution_count": 0,
      "outputs": []
    },
    {
      "cell_type": "code",
      "metadata": {
        "id": "W-PYhJDLJDzD",
        "colab_type": "code",
        "colab": {
          "base_uri": "https://localhost:8080/",
          "height": 84
        },
        "outputId": "be2dff7b-a8c8-4bff-a94e-e63c7ab811c2"
      },
      "source": [
        "print(len(train_sequences[0]))\n",
        "print(len(train_padded[0]))\n",
        "\n",
        "print(len(train_sequences[1]))\n",
        "print(len(train_padded[1]))"
      ],
      "execution_count": 81,
      "outputs": [
        {
          "output_type": "stream",
          "text": [
            "1454\n",
            "1000\n",
            "945\n",
            "1000\n"
          ],
          "name": "stdout"
        }
      ]
    },
    {
      "cell_type": "code",
      "metadata": {
        "id": "Cv5FTISgJMbv",
        "colab_type": "code",
        "colab": {
          "base_uri": "https://localhost:8080/",
          "height": 50
        },
        "outputId": "a803eb2a-b89c-4a4e-aa1f-dc4376e7b242"
      },
      "source": [
        "print(len(validation_sequences))\n",
        "print(validation_padded.shape)"
      ],
      "execution_count": 82,
      "outputs": [
        {
          "output_type": "stream",
          "text": [
            "157\n",
            "(157, 1000)\n"
          ],
          "name": "stdout"
        }
      ]
    },
    {
      "cell_type": "code",
      "metadata": {
        "id": "fHc8PdnrJcN1",
        "colab_type": "code",
        "colab": {
          "base_uri": "https://localhost:8080/",
          "height": 151
        },
        "outputId": "e9a13284-ef87-4b3b-ef39-dc98724cb74a"
      },
      "source": [
        "label_tokenizer = Tokenizer()\n",
        "label_tokenizer.fit_on_texts(train_labels)\n",
        "\n",
        "training_label_seq = np.array(label_tokenizer.texts_to_sequences(train_labels))\n",
        "validation_label_seq = np.array(label_tokenizer.texts_to_sequences(val_labels))\n",
        "\n",
        "print(training_label_seq[0])\n",
        "print(training_label_seq[1])\n",
        "print(training_label_seq[2])\n",
        "print(training_label_seq.shape)\n",
        "\n",
        "print(validation_label_seq[0])\n",
        "print(validation_label_seq[1])\n",
        "print(validation_label_seq[2])\n",
        "print(validation_label_seq.shape)"
      ],
      "execution_count": 84,
      "outputs": [
        {
          "output_type": "stream",
          "text": [
            "[2]\n",
            "[1]\n",
            "[1]\n",
            "(627, 1)\n",
            "[1]\n",
            "[2]\n",
            "[2]\n",
            "(157, 1)\n"
          ],
          "name": "stdout"
        }
      ]
    },
    {
      "cell_type": "markdown",
      "metadata": {
        "id": "ele-cVWGR3e_",
        "colab_type": "text"
      },
      "source": [
        "# Training a Neural netwrok to Classify and simultaneiously Training for Embeddings"
      ]
    },
    {
      "cell_type": "code",
      "metadata": {
        "id": "CrSQZVn7Knyn",
        "colab_type": "code",
        "colab": {
          "base_uri": "https://localhost:8080/",
          "height": 319
        },
        "outputId": "f9d3cff3-a206-493d-a143-9e6cfe71b9f3"
      },
      "source": [
        "model = tf.keras.Sequential([\n",
        "# YOUR CODE HERE\n",
        "    tf.keras.layers.Embedding(vocab_size, embedding_dim, input_length=max_length),\n",
        "    tf.keras.layers.GlobalAveragePooling1D(),\n",
        "    tf.keras.layers.Dense(64, activation='relu'),\n",
        "    tf.keras.layers.Dense(128, activation='relu'),\n",
        "    tf.keras.layers.Dense(6, activation='softmax')\n",
        "])\n",
        "model.compile(loss='sparse_categorical_crossentropy',optimizer='adam',metrics=['accuracy'])\n",
        "model.summary()"
      ],
      "execution_count": 99,
      "outputs": [
        {
          "output_type": "stream",
          "text": [
            "Model: \"sequential_5\"\n",
            "_________________________________________________________________\n",
            "Layer (type)                 Output Shape              Param #   \n",
            "=================================================================\n",
            "embedding_5 (Embedding)      (None, 1000, 100)         1000000   \n",
            "_________________________________________________________________\n",
            "global_average_pooling1d_5 ( (None, 100)               0         \n",
            "_________________________________________________________________\n",
            "dense_11 (Dense)             (None, 64)                6464      \n",
            "_________________________________________________________________\n",
            "dense_12 (Dense)             (None, 128)               8320      \n",
            "_________________________________________________________________\n",
            "dense_13 (Dense)             (None, 6)                 774       \n",
            "=================================================================\n",
            "Total params: 1,015,558\n",
            "Trainable params: 1,015,558\n",
            "Non-trainable params: 0\n",
            "_________________________________________________________________\n"
          ],
          "name": "stdout"
        }
      ]
    },
    {
      "cell_type": "code",
      "metadata": {
        "id": "FUlrRhmQK39X",
        "colab_type": "code",
        "colab": {
          "base_uri": "https://localhost:8080/",
          "height": 353
        },
        "outputId": "dbd26259-28d3-4d00-adcb-fb9d3ece8762"
      },
      "source": [
        "num_epochs = 10\n",
        "history = model.fit(train_padded, training_label_seq, epochs=num_epochs, validation_data=(validation_padded, validation_label_seq), verbose=2) # YOUR CODE HERE)"
      ],
      "execution_count": 102,
      "outputs": [
        {
          "output_type": "stream",
          "text": [
            "Epoch 1/10\n",
            "20/20 - 0s - loss: 0.0032 - accuracy: 0.9984 - val_loss: 1.0112 - val_accuracy: 0.8726\n",
            "Epoch 2/10\n",
            "20/20 - 0s - loss: 0.0022 - accuracy: 1.0000 - val_loss: 0.9914 - val_accuracy: 0.8662\n",
            "Epoch 3/10\n",
            "20/20 - 0s - loss: 0.0024 - accuracy: 1.0000 - val_loss: 0.9999 - val_accuracy: 0.8662\n",
            "Epoch 4/10\n",
            "20/20 - 0s - loss: 0.0018 - accuracy: 1.0000 - val_loss: 1.0401 - val_accuracy: 0.8726\n",
            "Epoch 5/10\n",
            "20/20 - 0s - loss: 0.0026 - accuracy: 1.0000 - val_loss: 0.9971 - val_accuracy: 0.8662\n",
            "Epoch 6/10\n",
            "20/20 - 0s - loss: 0.0044 - accuracy: 0.9984 - val_loss: 1.0494 - val_accuracy: 0.8726\n",
            "Epoch 7/10\n",
            "20/20 - 0s - loss: 0.0061 - accuracy: 0.9984 - val_loss: 1.1075 - val_accuracy: 0.8726\n",
            "Epoch 8/10\n",
            "20/20 - 0s - loss: 0.0013 - accuracy: 1.0000 - val_loss: 1.0665 - val_accuracy: 0.8726\n",
            "Epoch 9/10\n",
            "20/20 - 0s - loss: 0.0010 - accuracy: 1.0000 - val_loss: 1.1055 - val_accuracy: 0.8790\n",
            "Epoch 10/10\n",
            "20/20 - 0s - loss: 0.0016 - accuracy: 1.0000 - val_loss: 1.0599 - val_accuracy: 0.8726\n"
          ],
          "name": "stdout"
        }
      ]
    },
    {
      "cell_type": "markdown",
      "metadata": {
        "id": "q5L8SJ4rSTij",
        "colab_type": "text"
      },
      "source": [
        "# Visualizing Training Process"
      ]
    },
    {
      "cell_type": "code",
      "metadata": {
        "id": "5K4XMhpDK7bX",
        "colab_type": "code",
        "colab": {
          "base_uri": "https://localhost:8080/",
          "height": 541
        },
        "outputId": "93f225fe-a506-4b5f-e539-76ae9d8ebb60"
      },
      "source": [
        "import matplotlib.pyplot as plt\n",
        "\n",
        "\n",
        "def plot_graphs(history, string):\n",
        "  plt.plot(history.history[string])\n",
        "  plt.plot(history.history['val_'+string])\n",
        "  plt.xlabel(\"Epochs\")\n",
        "  plt.ylabel(string)\n",
        "  plt.legend([string, 'val_'+string])\n",
        "  plt.show()\n",
        "  \n",
        "plot_graphs(history, \"accuracy\")\n",
        "plot_graphs(history, \"loss\")\n"
      ],
      "execution_count": 103,
      "outputs": [
        {
          "output_type": "display_data",
          "data": {
            "image/png": "[encoded data removed]",
            "text/plain": [
              "<Figure size 432x288 with 1 Axes>"
            ]
          },
          "metadata": {
            "tags": [],
            "needs_background": "light"
          }
        },
        {
          "output_type": "display_data",
          "data": {
            "image/png": "[encoded data removed]",
            "text/plain": [
              "<Figure size 432x288 with 1 Axes>"
            ]
          },
          "metadata": {
            "tags": [],
            "needs_background": "light"
          }
        }
      ]
    },
    {
      "cell_type": "markdown",
      "metadata": {
        "id": "eDIpjEuJRyiw",
        "colab_type": "text"
      },
      "source": [
        "# Saving Embeddings into Files \n",
        "meta.tsv: Contains words\n",
        "vecs.tsv: Contains Word Embeddings of Dimension 100"
      ]
    },
    {
      "cell_type": "code",
      "metadata": {
        "id": "-saZj4L5Mp6U",
        "colab_type": "code",
        "colab": {}
      },
      "source": [
        "reverse_word_index = dict([(value, key) for (key, value) in word_index.items()])\n",
        "\n",
        "def decode_sentence(text):\n",
        "    return ' '.join([reverse_word_index.get(i, '?') for i in text])"
      ],
      "execution_count": 0,
      "outputs": []
    },
    {
      "cell_type": "code",
      "metadata": {
        "id": "K-CPCbceN9GF",
        "colab_type": "code",
        "colab": {
          "base_uri": "https://localhost:8080/",
          "height": 34
        },
        "outputId": "2f5fff08-99c7-409b-c0a6-690891e05dc2"
      },
      "source": [
        "e = model.layers[0]\n",
        "weights = e.get_weights()[0]\n",
        "print(weights.shape)"
      ],
      "execution_count": 105,
      "outputs": [
        {
          "output_type": "stream",
          "text": [
            "(10000, 100)\n"
          ],
          "name": "stdout"
        }
      ]
    },
    {
      "cell_type": "code",
      "metadata": {
        "id": "lubZKRPYN_b9",
        "colab_type": "code",
        "colab": {}
      },
      "source": [
        "import io\n",
        "\n",
        "out_v = io.open('vecs.tsv', 'w', encoding='utf-8')\n",
        "out_m = io.open('meta.tsv', 'w', encoding='utf-8')\n",
        "for word_num in range(1, vocab_size):\n",
        "  word = reverse_word_index[word_num]\n",
        "  embeddings = weights[word_num]\n",
        "  out_m.write(word + \"\\n\")\n",
        "  out_v.write('\\t'.join([str(x) for x in embeddings]) + \"\\n\")\n",
        "out_v.close()\n",
        "out_m.close()"
      ],
      "execution_count": 0,
      "outputs": []
    },
    {
      "cell_type": "code",
      "metadata": {
        "id": "rZBqA86fOBzf",
        "colab_type": "code",
        "colab": {}
      },
      "source": [
        "try:\n",
        "  from google.colab import files\n",
        "except ImportError:\n",
        "  pass\n",
        "else:\n",
        "  files.download('vecs.tsv')\n",
        "  files.download('meta.tsv')"
      ],
      "execution_count": 0,
      "outputs": []
    },
    {
      "cell_type": "markdown",
      "metadata": {
        "id": "NpZHp2RwTAs-",
        "colab_type": "text"
      },
      "source": [
        "# Visualizing words in 3D space\n",
        "\n",
        "**Once the file is downloaded on your System you can visualize by going to the [this website](https://projector.tensorflow.org/)**\n",
        "\n",
        "Follow the following Steps:\n",
        "1. ![Select Load](https://prnt.sc/sas10w) https://prnt.sc/sas10w\n",
        "2. ![Upload Files](https://prnt.sc/sas2ko) https://prnt.sc/sas2ko\n",
        "3. ![Select Words](https://prnt.sc/sas4mj) https://prnt.sc/sas4mj\n",
        "4. Once you select the word, copy it and use [Google Translate](https://translate.google.com/) to view the word in English."
      ]
    },
    {
      "cell_type": "markdown",
      "metadata": {
        "id": "sk3BlYbAWu0S",
        "colab_type": "text"
      },
      "source": [
        "# References\n",
        "Coursera NLP Course in Tensorflow in Practice Specialization."
      ]
    }
  ]
}